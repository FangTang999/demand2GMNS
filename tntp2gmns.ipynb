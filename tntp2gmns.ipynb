{
  "nbformat": 4,
  "nbformat_minor": 0,
  "metadata": {
    "colab": {
      "provenance": [],
      "include_colab_link": true
    },
    "kernelspec": {
      "name": "python3",
      "display_name": "Python 3"
    }
  },
  "cells": [
    {
      "cell_type": "markdown",
      "metadata": {
        "id": "view-in-github",
        "colab_type": "text"
      },
      "source": [
        "<a href=\"https://colab.research.google.com/github/FangTang999/demand2GMNS/blob/main/tntp2gmns.ipynb\" target=\"_parent\"><img src=\"https://colab.research.google.com/assets/colab-badge.svg\" alt=\"Open In Colab\"/></a>"
      ]
    },
    {
      "cell_type": "markdown",
      "metadata": {
        "id": "_ghEaf-d2Fdm"
      },
      "source": [
        "**Step 0: load the .tntp file from the repository of datasets**"
      ]
    },
    {
      "cell_type": "code",
      "source": [
        "!git clone https://github.com/FangTang999/demand2GMNS\n",
        "\n",
        "%cd demand2GMNS/datasets"
      ],
      "metadata": {
        "colab": {
          "base_uri": "https://localhost:8080/"
        },
        "id": "ETqwjIBxJCQb",
        "outputId": "43f667e9-7d67-4afd-e148-4326fb8128a3"
      },
      "execution_count": 1,
      "outputs": [
        {
          "output_type": "stream",
          "name": "stdout",
          "text": [
            "Cloning into 'demand2GMNS'...\n",
            "remote: Enumerating objects: 20, done.\u001b[K\n",
            "remote: Counting objects: 100% (20/20), done.\u001b[K\n",
            "remote: Compressing objects: 100% (17/17), done.\u001b[K\n",
            "remote: Total 20 (delta 4), reused 0 (delta 0), pack-reused 0\u001b[K\n",
            "Unpacking objects: 100% (20/20), 231.22 KiB | 4.92 MiB/s, done.\n",
            "/content/demand2GMNS/datasets\n"
          ]
        }
      ]
    },
    {
      "cell_type": "code",
      "source": [
        "!pwd "
      ],
      "metadata": {
        "id": "zTi7DW3Zp3T0",
        "outputId": "3cc78c69-a2a6-490d-e904-ddd2de455ffb",
        "colab": {
          "base_uri": "https://localhost:8080/"
        }
      },
      "execution_count": 2,
      "outputs": [
        {
          "output_type": "stream",
          "name": "stdout",
          "text": [
            "/content/demand2GMNS/datasets\n"
          ]
        }
      ]
    },
    {
      "cell_type": "markdown",
      "metadata": {
        "id": "CexwTGDB0D0A"
      },
      "source": [
        "Check the file icon on the left hand side, makesure file .tntp exists."
      ]
    },
    {
      "cell_type": "markdown",
      "metadata": {
        "id": "j6y7B8WX-d46"
      },
      "source": [
        "**Step 1: install python packages**"
      ]
    },
    {
      "cell_type": "code",
      "source": [
        "import pandas as pd"
      ],
      "metadata": {
        "id": "2gXxtg5QImRh"
      },
      "execution_count": 3,
      "outputs": []
    },
    {
      "cell_type": "markdown",
      "metadata": {
        "id": "qrchDA-R0WN0"
      },
      "source": [
        "**Step 2: convert tntp to GMNS Files**"
      ]
    },
    {
      "cell_type": "markdown",
      "source": [
        "go to the local folder in cloud computing environment "
      ],
      "metadata": {
        "id": "KBLRJxWHpvmG"
      }
    },
    {
      "cell_type": "code",
      "source": [
        "input_path = '/content/demand2GMNS/datasets/berlin-center_trips.tntp'"
      ],
      "metadata": {
        "id": "Wl1-uhoSKx64"
      },
      "execution_count": 4,
      "outputs": []
    },
    {
      "cell_type": "code",
      "metadata": {
        "id": "3UL0MUnaHAD5"
      },
      "source": [
        "def tntp2gmns(input_path: str) -> pd.DataFrame:\n",
        "    # read tntp file\n",
        "    with open(input_path, \"r\") as f:\n",
        "        data_tntp = f.readlines()\n",
        "\n",
        "    # delete empty lines\n",
        "    data_without_empty_lines = [line for line in data_tntp if line != \"\\n\"]\n",
        "\n",
        "    # replace \"\\t\" with \"\"  and \";\" with \",\" for each line of data\n",
        "    data_replaced = [line.replace(\" \\t\", \"\").replace(\";\", \",\") if \"\\t\" in line else line for line in data_without_empty_lines]\n",
        "\n",
        "    # prepare final list\n",
        "    final_list = []\n",
        "    col_name = [\"o_zone_id\", \"d_zone_id\", \"volume\"]\n",
        "\n",
        "    for line in data_replaced:\n",
        "        if \",\" not in line:\n",
        "            # get o id\n",
        "            o_id = line.split(\" \")[1]\n",
        "        else:\n",
        "            # get d ind and value\n",
        "            d_and_volume = line.split(\",\")\n",
        "            for volume in d_and_volume:\n",
        "                if volume != \"\\n\":\n",
        "                    d_id = volume.split(\":\")[0]\n",
        "                    volume_val = volume.split(\":\")[1]\n",
        "                    final_list.append([o_id, d_id, volume_val])\n",
        "\n",
        "    # convert to dataframe\n",
        "    df_tntp = pd.DataFrame(final_list, columns=col_name)\n",
        "\n",
        "    df_tntp.to_csv('/content/demand.csv', index=False)\n",
        "\n",
        "    return df_tntp\n"
      ],
      "execution_count": 5,
      "outputs": []
    },
    {
      "cell_type": "code",
      "source": [
        "tntp2gmns(input_path)"
      ],
      "metadata": {
        "id": "eNbnqhuCX5uY",
        "outputId": "b0c6a156-7543-4ba0-b6e3-32bb5bea370f",
        "colab": {
          "base_uri": "https://localhost:8080/",
          "height": 424
        }
      },
      "execution_count": 6,
      "outputs": [
        {
          "output_type": "execute_result",
          "data": {
            "text/plain": [
              "      o_zone_id d_zone_id     volume\n",
              "0             1         5   1.414000\n",
              "1             1         7   1.199000\n",
              "2             1         8   1.141000\n",
              "3             1        11   1.761000\n",
              "4             1        12   1.646000\n",
              "...         ...       ...        ...\n",
              "49683       865       860   6.070000\n",
              "49684       865       861   8.159000\n",
              "49685       865       862  11.096000\n",
              "49686       865       863  10.217000\n",
              "49687       865       864   3.547000\n",
              "\n",
              "[49688 rows x 3 columns]"
            ],
            "text/html": [
              "\n",
              "  <div id=\"df-b705736a-14e3-4f6c-8804-2bfc9b7679dc\">\n",
              "    <div class=\"colab-df-container\">\n",
              "      <div>\n",
              "<style scoped>\n",
              "    .dataframe tbody tr th:only-of-type {\n",
              "        vertical-align: middle;\n",
              "    }\n",
              "\n",
              "    .dataframe tbody tr th {\n",
              "        vertical-align: top;\n",
              "    }\n",
              "\n",
              "    .dataframe thead th {\n",
              "        text-align: right;\n",
              "    }\n",
              "</style>\n",
              "<table border=\"1\" class=\"dataframe\">\n",
              "  <thead>\n",
              "    <tr style=\"text-align: right;\">\n",
              "      <th></th>\n",
              "      <th>o_zone_id</th>\n",
              "      <th>d_zone_id</th>\n",
              "      <th>volume</th>\n",
              "    </tr>\n",
              "  </thead>\n",
              "  <tbody>\n",
              "    <tr>\n",
              "      <th>0</th>\n",
              "      <td>1</td>\n",
              "      <td>5</td>\n",
              "      <td>1.414000</td>\n",
              "    </tr>\n",
              "    <tr>\n",
              "      <th>1</th>\n",
              "      <td>1</td>\n",
              "      <td>7</td>\n",
              "      <td>1.199000</td>\n",
              "    </tr>\n",
              "    <tr>\n",
              "      <th>2</th>\n",
              "      <td>1</td>\n",
              "      <td>8</td>\n",
              "      <td>1.141000</td>\n",
              "    </tr>\n",
              "    <tr>\n",
              "      <th>3</th>\n",
              "      <td>1</td>\n",
              "      <td>11</td>\n",
              "      <td>1.761000</td>\n",
              "    </tr>\n",
              "    <tr>\n",
              "      <th>4</th>\n",
              "      <td>1</td>\n",
              "      <td>12</td>\n",
              "      <td>1.646000</td>\n",
              "    </tr>\n",
              "    <tr>\n",
              "      <th>...</th>\n",
              "      <td>...</td>\n",
              "      <td>...</td>\n",
              "      <td>...</td>\n",
              "    </tr>\n",
              "    <tr>\n",
              "      <th>49683</th>\n",
              "      <td>865</td>\n",
              "      <td>860</td>\n",
              "      <td>6.070000</td>\n",
              "    </tr>\n",
              "    <tr>\n",
              "      <th>49684</th>\n",
              "      <td>865</td>\n",
              "      <td>861</td>\n",
              "      <td>8.159000</td>\n",
              "    </tr>\n",
              "    <tr>\n",
              "      <th>49685</th>\n",
              "      <td>865</td>\n",
              "      <td>862</td>\n",
              "      <td>11.096000</td>\n",
              "    </tr>\n",
              "    <tr>\n",
              "      <th>49686</th>\n",
              "      <td>865</td>\n",
              "      <td>863</td>\n",
              "      <td>10.217000</td>\n",
              "    </tr>\n",
              "    <tr>\n",
              "      <th>49687</th>\n",
              "      <td>865</td>\n",
              "      <td>864</td>\n",
              "      <td>3.547000</td>\n",
              "    </tr>\n",
              "  </tbody>\n",
              "</table>\n",
              "<p>49688 rows × 3 columns</p>\n",
              "</div>\n",
              "      <button class=\"colab-df-convert\" onclick=\"convertToInteractive('df-b705736a-14e3-4f6c-8804-2bfc9b7679dc')\"\n",
              "              title=\"Convert this dataframe to an interactive table.\"\n",
              "              style=\"display:none;\">\n",
              "        \n",
              "  <svg xmlns=\"http://www.w3.org/2000/svg\" height=\"24px\"viewBox=\"0 0 24 24\"\n",
              "       width=\"24px\">\n",
              "    <path d=\"M0 0h24v24H0V0z\" fill=\"none\"/>\n",
              "    <path d=\"M18.56 5.44l.94 2.06.94-2.06 2.06-.94-2.06-.94-.94-2.06-.94 2.06-2.06.94zm-11 1L8.5 8.5l.94-2.06 2.06-.94-2.06-.94L8.5 2.5l-.94 2.06-2.06.94zm10 10l.94 2.06.94-2.06 2.06-.94-2.06-.94-.94-2.06-.94 2.06-2.06.94z\"/><path d=\"M17.41 7.96l-1.37-1.37c-.4-.4-.92-.59-1.43-.59-.52 0-1.04.2-1.43.59L10.3 9.45l-7.72 7.72c-.78.78-.78 2.05 0 2.83L4 21.41c.39.39.9.59 1.41.59.51 0 1.02-.2 1.41-.59l7.78-7.78 2.81-2.81c.8-.78.8-2.07 0-2.86zM5.41 20L4 18.59l7.72-7.72 1.47 1.35L5.41 20z\"/>\n",
              "  </svg>\n",
              "      </button>\n",
              "      \n",
              "  <style>\n",
              "    .colab-df-container {\n",
              "      display:flex;\n",
              "      flex-wrap:wrap;\n",
              "      gap: 12px;\n",
              "    }\n",
              "\n",
              "    .colab-df-convert {\n",
              "      background-color: #E8F0FE;\n",
              "      border: none;\n",
              "      border-radius: 50%;\n",
              "      cursor: pointer;\n",
              "      display: none;\n",
              "      fill: #1967D2;\n",
              "      height: 32px;\n",
              "      padding: 0 0 0 0;\n",
              "      width: 32px;\n",
              "    }\n",
              "\n",
              "    .colab-df-convert:hover {\n",
              "      background-color: #E2EBFA;\n",
              "      box-shadow: 0px 1px 2px rgba(60, 64, 67, 0.3), 0px 1px 3px 1px rgba(60, 64, 67, 0.15);\n",
              "      fill: #174EA6;\n",
              "    }\n",
              "\n",
              "    [theme=dark] .colab-df-convert {\n",
              "      background-color: #3B4455;\n",
              "      fill: #D2E3FC;\n",
              "    }\n",
              "\n",
              "    [theme=dark] .colab-df-convert:hover {\n",
              "      background-color: #434B5C;\n",
              "      box-shadow: 0px 1px 3px 1px rgba(0, 0, 0, 0.15);\n",
              "      filter: drop-shadow(0px 1px 2px rgba(0, 0, 0, 0.3));\n",
              "      fill: #FFFFFF;\n",
              "    }\n",
              "  </style>\n",
              "\n",
              "      <script>\n",
              "        const buttonEl =\n",
              "          document.querySelector('#df-b705736a-14e3-4f6c-8804-2bfc9b7679dc button.colab-df-convert');\n",
              "        buttonEl.style.display =\n",
              "          google.colab.kernel.accessAllowed ? 'block' : 'none';\n",
              "\n",
              "        async function convertToInteractive(key) {\n",
              "          const element = document.querySelector('#df-b705736a-14e3-4f6c-8804-2bfc9b7679dc');\n",
              "          const dataTable =\n",
              "            await google.colab.kernel.invokeFunction('convertToInteractive',\n",
              "                                                     [key], {});\n",
              "          if (!dataTable) return;\n",
              "\n",
              "          const docLinkHtml = 'Like what you see? Visit the ' +\n",
              "            '<a target=\"_blank\" href=https://colab.research.google.com/notebooks/data_table.ipynb>data table notebook</a>'\n",
              "            + ' to learn more about interactive tables.';\n",
              "          element.innerHTML = '';\n",
              "          dataTable['output_type'] = 'display_data';\n",
              "          await google.colab.output.renderOutput(dataTable, element);\n",
              "          const docLink = document.createElement('div');\n",
              "          docLink.innerHTML = docLinkHtml;\n",
              "          element.appendChild(docLink);\n",
              "        }\n",
              "      </script>\n",
              "    </div>\n",
              "  </div>\n",
              "  "
            ]
          },
          "metadata": {},
          "execution_count": 6
        }
      ]
    },
    {
      "cell_type": "markdown",
      "metadata": {
        "id": "SENYsUzC03bx"
      },
      "source": [
        "Check deamnd.csv exists in the left-hand-side Colab folder."
      ]
    },
    {
      "cell_type": "markdown",
      "metadata": {
        "id": "gfLuLzVs4SJS"
      },
      "source": [
        "**Step 3: Download data files**\n",
        "\n"
      ]
    },
    {
      "cell_type": "code",
      "metadata": {
        "colab": {
          "base_uri": "https://localhost:8080/",
          "height": 17
        },
        "id": "gRYOkJyT4juC",
        "outputId": "00b5e682-86ea-44de-e185-a1616d7c5eef"
      },
      "source": [
        "from google.colab import files\n",
        "files.download(\"/content/demand.csv\")"
      ],
      "execution_count": 8,
      "outputs": [
        {
          "output_type": "display_data",
          "data": {
            "text/plain": [
              "<IPython.core.display.Javascript object>"
            ],
            "application/javascript": [
              "\n",
              "    async function download(id, filename, size) {\n",
              "      if (!google.colab.kernel.accessAllowed) {\n",
              "        return;\n",
              "      }\n",
              "      const div = document.createElement('div');\n",
              "      const label = document.createElement('label');\n",
              "      label.textContent = `Downloading \"${filename}\": `;\n",
              "      div.appendChild(label);\n",
              "      const progress = document.createElement('progress');\n",
              "      progress.max = size;\n",
              "      div.appendChild(progress);\n",
              "      document.body.appendChild(div);\n",
              "\n",
              "      const buffers = [];\n",
              "      let downloaded = 0;\n",
              "\n",
              "      const channel = await google.colab.kernel.comms.open(id);\n",
              "      // Send a message to notify the kernel that we're ready.\n",
              "      channel.send({})\n",
              "\n",
              "      for await (const message of channel.messages) {\n",
              "        // Send a message to notify the kernel that we're ready.\n",
              "        channel.send({})\n",
              "        if (message.buffers) {\n",
              "          for (const buffer of message.buffers) {\n",
              "            buffers.push(buffer);\n",
              "            downloaded += buffer.byteLength;\n",
              "            progress.value = downloaded;\n",
              "          }\n",
              "        }\n",
              "      }\n",
              "      const blob = new Blob(buffers, {type: 'application/binary'});\n",
              "      const a = document.createElement('a');\n",
              "      a.href = window.URL.createObjectURL(blob);\n",
              "      a.download = filename;\n",
              "      div.appendChild(a);\n",
              "      a.click();\n",
              "      div.remove();\n",
              "    }\n",
              "  "
            ]
          },
          "metadata": {}
        },
        {
          "output_type": "display_data",
          "data": {
            "text/plain": [
              "<IPython.core.display.Javascript object>"
            ],
            "application/javascript": [
              "download(\"download_5b96709c-6d1e-4340-ba6b-bbb937c3162c\", \"demand.csv\", 835530)"
            ]
          },
          "metadata": {}
        }
      ]
    }
  ]
}